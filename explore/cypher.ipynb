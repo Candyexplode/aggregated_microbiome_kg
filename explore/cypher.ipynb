{
 "cells": [
  {
   "cell_type": "code",
   "execution_count": 1,
   "id": "9539ad2c-e81b-4baa-9779-a45dd9a52de9",
   "metadata": {},
   "outputs": [],
   "source": [
    "import os\n",
    "from neo4j import GraphDatabase\n",
    "from tqdm import tqdm\n",
    "\n",
    "from config import NEO4J, DATA_DIR, NEO4J_IMPORT_DIR\n",
    "from cypher_queries import QUERIES"
   ]
  },
  {
   "cell_type": "code",
   "execution_count": 2,
   "id": "a395329c-16b8-442c-a303-2d5d0939f2fe",
   "metadata": {},
   "outputs": [],
   "source": [
    "class Neo4jConnection:\n",
    "    \"\"\"\n",
    "    Class for initiating Neo4j session.\n",
    "    \"\"\"\n",
    "\n",
    "    def __init__(self, uri, user, password, database):\n",
    "        \"\"\"\n",
    "        Init method\n",
    "        Arguments\n",
    "        ----------\n",
    "        uri : str\n",
    "        user : str\n",
    "        password: str\n",
    "        \"\"\"\n",
    "        self.driver = GraphDatabase.driver(uri, auth=(user, password), database=database)\n",
    "\n",
    "    def close(self):\n",
    "        \"\"\"\n",
    "        Closes Driver\n",
    "        \"\"\"\n",
    "        self.driver.close()\n",
    "\n",
    "    def query(self, query, **kwargs):\n",
    "        \"\"\"\n",
    "        Makes query for initating session\n",
    "        Arguments\n",
    "        ----------\n",
    "        query : query\n",
    "\n",
    "        Returns\n",
    "        ----------\n",
    "        response : list\n",
    "        \"\"\"\n",
    "        with self.driver.session() as session:\n",
    "            response = list(session.run(query, **kwargs))\n",
    "            return response"
   ]
  },
  {
   "cell_type": "code",
   "execution_count": 3,
   "id": "4d1ef283-fa71-460b-ad58-170857c2d0c9",
   "metadata": {},
   "outputs": [],
   "source": [
    "files_list = [\n",
    "    {\"name\": \"ecs\", \"path\": f\"{DATA_DIR}/data/csv/ecs\", \"files\": []},\n",
    "    {\"name\": \"tax\", \"path\": f\"{DATA_DIR}/data/csv/tax\", \"files\": []},\n",
    "    {\"name\": \"pwy\", \"path\": f\"{DATA_DIR}/data/csv/pwy\", \"files\": []},\n",
    "]\n",
    "\n",
    "conn = Neo4jConnection(NEO4J[\"URL\"], NEO4J[\"USER\"], NEO4J[\"PW\"], NEO4J[\"DB\"])\n",
    "\n",
    "queries_store = [\n",
    "    [QUERIES[\"master_data\"], \"file:///master.csv\", \"Importing Master Data\"]\n",
    "]"
   ]
  },
  {
   "cell_type": "code",
   "execution_count": 4,
   "id": "58550181-8e52-4f61-9524-20289ce76c57",
   "metadata": {},
   "outputs": [],
   "source": [
    "import numpy as np\n",
    "import pandas as pd"
   ]
  },
  {
   "cell_type": "code",
   "execution_count": 5,
   "id": "fdfeecc2-d627-40e9-a643-ad39ec8dcc26",
   "metadata": {},
   "outputs": [
    {
     "name": "stdout",
     "output_type": "stream",
     "text": [
      "<class 'pandas.core.frame.DataFrame'>\n",
      "RangeIndex: 7529 entries, 0 to 7528\n",
      "Data columns (total 10 columns):\n",
      " #   Column            Non-Null Count  Dtype \n",
      "---  ------            --------------  ----- \n",
      " 0   Subject_ID        7529 non-null   int64 \n",
      " 1   Sample_body_site  7529 non-null   object\n",
      " 2   Visit_number      7529 non-null   int64 \n",
      " 3   Visit_ID          7529 non-null   object\n",
      " 4   Type              7529 non-null   object\n",
      " 5   urls              7529 non-null   object\n",
      " 6   Age               7529 non-null   int64 \n",
      " 7   Sex               7529 non-null   object\n",
      " 8   Diagnosis         7529 non-null   object\n",
      " 9   Race              7529 non-null   object\n",
      "dtypes: int64(3), object(7)\n",
      "memory usage: 588.3+ KB\n"
     ]
    }
   ],
   "source": [
    "master = pd.read_csv(\"../data/master.csv\")\n",
    "master.info()"
   ]
  },
  {
   "cell_type": "code",
   "execution_count": 7,
   "id": "da91796a-ca62-416d-91fe-a7a76cfbe12b",
   "metadata": {},
   "outputs": [],
   "source": [
    "query = queries_store[0]\n",
    "conn.query(query[0], path=query[1])\n",
    "conn.close()"
   ]
  },
  {
   "cell_type": "code",
   "execution_count": 4,
   "id": "ef0d50a1-ea4c-41ae-91bf-dfcc981d2cfa",
   "metadata": {},
   "outputs": [
    {
     "ename": "NameError",
     "evalue": "name 'files_list' is not defined",
     "output_type": "error",
     "traceback": [
      "\u001b[0;31m---------------------------------------------------------------------------\u001b[0m",
      "\u001b[0;31mNameError\u001b[0m                                 Traceback (most recent call last)",
      "Cell \u001b[0;32mIn[4], line 1\u001b[0m\n\u001b[0;32m----> 1\u001b[0m \u001b[38;5;28;01mfor\u001b[39;00m item \u001b[38;5;129;01min\u001b[39;00m \u001b[43mfiles_list\u001b[49m:\n\u001b[1;32m      2\u001b[0m     \u001b[38;5;28;01mif\u001b[39;00m os\u001b[38;5;241m.\u001b[39mpath\u001b[38;5;241m.\u001b[39mexists(item[\u001b[38;5;124m\"\u001b[39m\u001b[38;5;124mpath\u001b[39m\u001b[38;5;124m\"\u001b[39m]):\n\u001b[1;32m      3\u001b[0m         item[\u001b[38;5;124m\"\u001b[39m\u001b[38;5;124mfiles\u001b[39m\u001b[38;5;124m\"\u001b[39m] \u001b[38;5;241m=\u001b[39m os\u001b[38;5;241m.\u001b[39mlistdir(item[\u001b[38;5;124m\"\u001b[39m\u001b[38;5;124mpath\u001b[39m\u001b[38;5;124m\"\u001b[39m])\n",
      "\u001b[0;31mNameError\u001b[0m: name 'files_list' is not defined"
     ]
    }
   ],
   "source": [
    "for item in files_list:\n",
    "    if os.path.exists(item[\"path\"]):\n",
    "        item[\"files\"] = os.listdir(item[\"path\"])\n",
    "\n",
    "        for file in item[\"files\"]:\n",
    "            queries_store.append(\n",
    "                [\n",
    "                    QUERIES[item[\"name\"]],\n",
    "                    f\"file:///{item['name']}/{file}\",\n",
    "                    f\"Importing {item['name']} data from {file}\",\n",
    "                ]\n",
    "            )\n",
    "    else:\n",
    "        print(\n",
    "            f\"Unable to locate folder {item['path']}. {item['name']}-data will not be imported.\"\n",
    "        )\n",
    "\n",
    "print(\"Executing queries:\")\n",
    "with tqdm(total=len(queries_store)) as pbar:\n",
    "    for query in queries_store:\n",
    "        pbar.set_description(query[2])\n",
    "        pbar.refresh()\n",
    "        conn.query(query[0], path=query[1])\n",
    "\n",
    "        pbar.update()\n",
    "\n",
    "conn.close()"
   ]
  },
  {
   "cell_type": "code",
   "execution_count": null,
   "id": "2315f995-4935-4bfc-afd2-709df25b51f4",
   "metadata": {},
   "outputs": [],
   "source": []
  }
 ],
 "metadata": {
  "kernelspec": {
   "display_name": "Python 3 (ipykernel)",
   "language": "python",
   "name": "python3"
  },
  "language_info": {
   "codemirror_mode": {
    "name": "ipython",
    "version": 3
   },
   "file_extension": ".py",
   "mimetype": "text/x-python",
   "name": "python",
   "nbconvert_exporter": "python",
   "pygments_lexer": "ipython3",
   "version": "3.10.9"
  }
 },
 "nbformat": 4,
 "nbformat_minor": 5
}
