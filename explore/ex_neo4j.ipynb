{
 "cells": [
  {
   "cell_type": "code",
   "execution_count": 1,
   "id": "c2c1c2e5-9f24-4518-912b-514237e0357e",
   "metadata": {},
   "outputs": [],
   "source": [
    "import logging, sys, os\n",
    "\n",
    "from neo4j import GraphDatabase\n",
    "from neo4j.exceptions import ServiceUnavailable"
   ]
  },
  {
   "cell_type": "code",
   "execution_count": 2,
   "id": "1836e789-e6c9-459c-b3eb-08867b6c359b",
   "metadata": {},
   "outputs": [],
   "source": [
    "USER = 'neo4j'\n",
    "PASSWORD = '1qazXSW@'"
   ]
  },
  {
   "cell_type": "code",
   "execution_count": 4,
   "id": "ebfbb3f8-f73a-48c4-b70d-df81697a5a5b",
   "metadata": {},
   "outputs": [],
   "source": [
    "class MovieDb:\n",
    "    \"\"\"\n",
    "    Biolerplate code copied from Neo4J Python client documentation\n",
    "    \"\"\"\n",
    "    def __init__(self, uri, user, password):\n",
    "        self.driver = GraphDatabase.driver(uri, auth=(user, password))\n",
    "\n",
    "    def close(self):\n",
    "        self.driver.close()\n",
    "\n",
    "    @staticmethod\n",
    "    def enable_log(level, output_stream):\n",
    "        handler = logging.StreamHandler(output_stream)\n",
    "        handler.setLevel(level)\n",
    "        logging.getLogger('neo4j').addHandler(handler)\n",
    "        logging.getLogger('neo4j').setLevel(level)\n",
    "\n",
    "    def find_movies(self, actor_name):\n",
    "        with self.driver.session() as session:\n",
    "            result = session.execute_read(self._movies_actor_is_in, actor_name)\n",
    "            for row in result:\n",
    "                print(\"Movie: {row}\".format(row=row))\n",
    "\n",
    "    @staticmethod\n",
    "    def _movies_actor_is_in(tx, actor_name):\n",
    "        query = (\n",
    "            \"match (actor:Person {name: $actor_name})-[:ACTED_IN]->(movies) \"\n",
    "            \"return movies.title as title\"\n",
    "        )\n",
    "        result = tx.run(query, actor_name=actor_name)\n",
    "        return [row[\"title\"] for row in result]"
   ]
  },
  {
   "cell_type": "code",
   "execution_count": null,
   "id": "7d8fb3da-ea8b-4a8f-aaa3-d4c6f6fd9d03",
   "metadata": {},
   "outputs": [],
   "source": [
    "bolt_url = \"neo4j://localhost:7687\"\n",
    "MovieDb.enable_log(logging.INFO, sys.stdout)"
   ]
  },
  {
   "cell_type": "code",
   "execution_count": null,
   "id": "925fe418-4da6-44be-bcd3-84dd7b52366f",
   "metadata": {},
   "outputs": [],
   "source": []
  }
 ],
 "metadata": {
  "kernelspec": {
   "display_name": "Python 3 (ipykernel)",
   "language": "python",
   "name": "python3"
  },
  "language_info": {
   "codemirror_mode": {
    "name": "ipython",
    "version": 3
   },
   "file_extension": ".py",
   "mimetype": "text/x-python",
   "name": "python",
   "nbconvert_exporter": "python",
   "pygments_lexer": "ipython3",
   "version": "3.10.9"
  }
 },
 "nbformat": 4,
 "nbformat_minor": 5
}
