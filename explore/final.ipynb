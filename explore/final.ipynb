{
 "cells": [
  {
   "cell_type": "code",
   "execution_count": 1,
   "id": "37594757-8391-4739-8eec-6a04c79ffadf",
   "metadata": {},
   "outputs": [],
   "source": [
    "import os\n",
    "from omegaconf import DictConfig"
   ]
  },
  {
   "cell_type": "code",
   "execution_count": 2,
   "id": "5f3834c0-0df6-4889-99b1-65b37385242d",
   "metadata": {},
   "outputs": [
    {
     "data": {
      "text/plain": [
       "[]"
      ]
     },
     "execution_count": 2,
     "metadata": {},
     "output_type": "execute_result"
    }
   ],
   "source": [
    "files_list: list[dict[str, str | list]] = []\n",
    "files_list"
   ]
  },
  {
   "cell_type": "code",
   "execution_count": 3,
   "id": "74ce4ae4-ba26-4f5c-a25a-231a879d4ae6",
   "metadata": {},
   "outputs": [],
   "source": [
    "configs = [\n",
    "    ['/home/sha/work/yi/data-scripts-queries/ecs', '/home/sha/work/yi/data-scripts-queries/queries/query_ecs_yi.txt', 'ecs'],\n",
    "    ['/home/sha/work/yi/data-scripts-queries/pwy', '/home/sha/work/yi/data-scripts-queries/queries/query_pwy_yi.txt', 'pwy'],\n",
    "    ['/home/sha/work/yi/data-scripts-queries/tax', '/home/sha/work/yi/data-scripts-queries/queries/query_tax_yi.txt', 'tax'],\n",
    "]"
   ]
  },
  {
   "cell_type": "code",
   "execution_count": 4,
   "id": "b100c857-b91a-4aff-b12f-d01dd2d687e6",
   "metadata": {},
   "outputs": [],
   "source": [
    "for item in configs:\n",
    "    if item[0] is not None and item[1] is not None:\n",
    "            files_list.append({\"name\": item[2], \"path\": item[2], \"files\": []})\n",
    "    else:\n",
    "        pass"
   ]
  },
  {
   "cell_type": "code",
   "execution_count": 5,
   "id": "f8f00e93-e51e-427c-a8ba-0588b909edd6",
   "metadata": {},
   "outputs": [],
   "source": [
    "# files_list"
   ]
  },
  {
   "cell_type": "code",
   "execution_count": 8,
   "id": "401f966f-1ec6-4366-b5d8-990c7cb2e090",
   "metadata": {},
   "outputs": [],
   "source": [
    "queries: dict[str, str] = {}\n",
    "# with open('/home/sha/work/yi/data-scripts-queries/queries/query_meta.txt', \"r\") as file:\n",
    "#     queries[\"master_data\"] = file.read()\n",
    "with open('/home/sha/work/yi/data-scripts-queries/queries/query_ecs_yi.txt', \"r\") as file:\n",
    "    queries[\"ecs\"] = file.read()\n",
    "with open('/home/sha/work/yi/data-scripts-queries/queries/query_pwy_yi.txt', \"r\") as file:\n",
    "    queries[\"pwy\"] = file.read()\n",
    "with open('/home/sha/work/yi/data-scripts-queries/queries/query_tax_yi.txt', \"r\") as file:\n",
    "    queries[\"tax\"] = file.read()"
   ]
  },
  {
   "cell_type": "code",
   "execution_count": 9,
   "id": "3b264725-7d3b-48da-91ac-82bb603a288e",
   "metadata": {},
   "outputs": [
    {
     "data": {
      "text/plain": [
       "{'ecs': 'LOAD CSV WITH HEADERS FROM $path AS row\\nMERGE (gen:Genus {name: row.Genus})\\nMERGE (enz:Enzyme {name: row.Enzyme})\\nCREATE (gen)-[rel: Related {abundance_mean: row.mean, classification: row.classification, group: row.group}]->(enz)',\n",
       " 'pwy': 'LOAD CSV WITH HEADERS FROM $path AS row\\nMERGE (gen:Genus {name: row.Genus})\\nMERGE (pwy:Pathway {name: row.PWY})\\nCREATE (gen)-[rel: Related {abundance_mean: row.mean, classification: row.classification, group: row.group}]->(pwy)',\n",
       " 'tax': \"LOAD CSV WITH HEADERS FROM $path AS row\\nMERGE (diag:Diagnosis {name: row.diagnosis})\\nMERGE (gen:Genus {name: row.genus})\\nCREATE (diag)<-[rel:Presence {classification: row.classification, group: row.group, abundance_mean: row.mean, significant_difference: CASE WHEN row.contrasts IS NULL THEN [] ELSE split(row.contrasts, '|') END}]-(gen)\\n\"}"
      ]
     },
     "execution_count": 9,
     "metadata": {},
     "output_type": "execute_result"
    }
   ],
   "source": [
    "queries"
   ]
  },
  {
   "cell_type": "code",
   "execution_count": 10,
   "id": "e75e191c-3a77-478a-8a82-0bd80f96e8b0",
   "metadata": {},
   "outputs": [
    {
     "name": "stdout",
     "output_type": "stream",
     "text": [
      "{'name': 'ecs', 'path': 'ecs', 'files': []}\n",
      "{'name': 'pwy', 'path': 'pwy', 'files': []}\n",
      "{'name': 'tax', 'path': 'tax', 'files': []}\n"
     ]
    }
   ],
   "source": [
    "queries_store = []\n",
    "# queries_store.append(\n",
    "#     [\n",
    "#         queries[\"master_data\"],\n",
    "#         \"file:///\" + 'data/meta/master_data.csv',\n",
    "#         \"Importing Master Data\",\n",
    "#     ]\n",
    "# )\n",
    "neo4j_import_folder = '/home/sha/.config/Neo4j Desktop/Application/relate-data/dbmss/dbms-c7db64bb-a3cf-43a4-af5c-7438bcb4790d/import/data_yi'\n",
    "for file_item in files_list:\n",
    "    print(file_item)\n",
    "    if os.path.exists(\n",
    "        str(neo4j_import_folder) + \"/\" + str(file_item[\"path\"])\n",
    "    ):\n",
    "        file_item[\"files\"] = os.listdir(\n",
    "            neo4j_import_folder + \"/\" + file_item[\"path\"]\n",
    "        )\n",
    "\n",
    "        for file in file_item[\"files\"]:\n",
    "            queries_store.append(\n",
    "                [\n",
    "                    queries[file_item[\"name\"]],\n",
    "                    f\"file:///data_yi/{file_item['path']}/{file}\",\n",
    "                    f\"Importing {file_item['name']} data from {file}\",\n",
    "                ]\n",
    "            )"
   ]
  },
  {
   "cell_type": "code",
   "execution_count": 11,
   "id": "6f0bd178-2a5d-4634-8c7e-6c45c152e4ec",
   "metadata": {},
   "outputs": [
    {
     "data": {
      "text/plain": [
       "[['LOAD CSV WITH HEADERS FROM $path AS row\\nMERGE (gen:Genus {name: row.Genus})\\nMERGE (enz:Enzyme {name: row.Enzyme})\\nCREATE (gen)-[rel: Related {abundance_mean: row.mean, classification: row.classification, group: row.group}]->(enz)',\n",
       "  'file:///data_yi/ecs/ecs_age_group_out.csv',\n",
       "  'Importing ecs data from ecs_age_group_out.csv'],\n",
       " ['LOAD CSV WITH HEADERS FROM $path AS row\\nMERGE (gen:Genus {name: row.Genus})\\nMERGE (enz:Enzyme {name: row.Enzyme})\\nCREATE (gen)-[rel: Related {abundance_mean: row.mean, classification: row.classification, group: row.group}]->(enz)',\n",
       "  'file:///data_yi/ecs/ecs_visit_stage_out.csv',\n",
       "  'Importing ecs data from ecs_visit_stage_out.csv'],\n",
       " ['LOAD CSV WITH HEADERS FROM $path AS row\\nMERGE (gen:Genus {name: row.Genus})\\nMERGE (enz:Enzyme {name: row.Enzyme})\\nCREATE (gen)-[rel: Related {abundance_mean: row.mean, classification: row.classification, group: row.group}]->(enz)',\n",
       "  'file:///data_yi/ecs/ecs_Sex_out.csv',\n",
       "  'Importing ecs data from ecs_Sex_out.csv'],\n",
       " ['LOAD CSV WITH HEADERS FROM $path AS row\\nMERGE (gen:Genus {name: row.Genus})\\nMERGE (pwy:Pathway {name: row.PWY})\\nCREATE (gen)-[rel: Related {abundance_mean: row.mean, classification: row.classification, group: row.group}]->(pwy)',\n",
       "  'file:///data_yi/pwy/pwy_visit_stage_out.csv',\n",
       "  'Importing pwy data from pwy_visit_stage_out.csv'],\n",
       " ['LOAD CSV WITH HEADERS FROM $path AS row\\nMERGE (gen:Genus {name: row.Genus})\\nMERGE (pwy:Pathway {name: row.PWY})\\nCREATE (gen)-[rel: Related {abundance_mean: row.mean, classification: row.classification, group: row.group}]->(pwy)',\n",
       "  'file:///data_yi/pwy/pwy_Sex_out.csv',\n",
       "  'Importing pwy data from pwy_Sex_out.csv'],\n",
       " ['LOAD CSV WITH HEADERS FROM $path AS row\\nMERGE (gen:Genus {name: row.Genus})\\nMERGE (pwy:Pathway {name: row.PWY})\\nCREATE (gen)-[rel: Related {abundance_mean: row.mean, classification: row.classification, group: row.group}]->(pwy)',\n",
       "  'file:///data_yi/pwy/pwy_age_group_out.csv',\n",
       "  'Importing pwy data from pwy_age_group_out.csv'],\n",
       " [\"LOAD CSV WITH HEADERS FROM $path AS row\\nMERGE (diag:Diagnosis {name: row.diagnosis})\\nMERGE (gen:Genus {name: row.genus})\\nCREATE (diag)<-[rel:Presence {classification: row.classification, group: row.group, abundance_mean: row.mean, significant_difference: CASE WHEN row.contrasts IS NULL THEN [] ELSE split(row.contrasts, '|') END}]-(gen)\\n\",\n",
       "  'file:///data_yi/tax/tax_age_group_out.csv',\n",
       "  'Importing tax data from tax_age_group_out.csv'],\n",
       " [\"LOAD CSV WITH HEADERS FROM $path AS row\\nMERGE (diag:Diagnosis {name: row.diagnosis})\\nMERGE (gen:Genus {name: row.genus})\\nCREATE (diag)<-[rel:Presence {classification: row.classification, group: row.group, abundance_mean: row.mean, significant_difference: CASE WHEN row.contrasts IS NULL THEN [] ELSE split(row.contrasts, '|') END}]-(gen)\\n\",\n",
       "  'file:///data_yi/tax/tax_visit_stage_out.csv',\n",
       "  'Importing tax data from tax_visit_stage_out.csv'],\n",
       " [\"LOAD CSV WITH HEADERS FROM $path AS row\\nMERGE (diag:Diagnosis {name: row.diagnosis})\\nMERGE (gen:Genus {name: row.genus})\\nCREATE (diag)<-[rel:Presence {classification: row.classification, group: row.group, abundance_mean: row.mean, significant_difference: CASE WHEN row.contrasts IS NULL THEN [] ELSE split(row.contrasts, '|') END}]-(gen)\\n\",\n",
       "  'file:///data_yi/tax/tax_Sex_out.csv',\n",
       "  'Importing tax data from tax_Sex_out.csv']]"
      ]
     },
     "execution_count": 11,
     "metadata": {},
     "output_type": "execute_result"
    }
   ],
   "source": [
    "queries_store"
   ]
  },
  {
   "cell_type": "code",
   "execution_count": 12,
   "id": "f7ec8d3c-0189-4114-a6ce-206e36309b45",
   "metadata": {},
   "outputs": [],
   "source": [
    "# from neo4j import GraphDatabase\n",
    "# driver = GraphDatabase.driver(uri, auth=(user, password))\n",
    "# conn = Neo4jConnection(\n",
    "#         config.neo4j_config.url, config.neo4j_config.user, config.neo4j_config.pw\n",
    "#     )\n",
    "# for query in queries_store:\n",
    "#     conn.query(query[0], path=query[1])\n",
    "#     with driver.session() as session:\n",
    "#         response = list(session.run(query, **kwargs))\n",
    "#         return response\n",
    "# driver.close()"
   ]
  },
  {
   "cell_type": "code",
   "execution_count": 13,
   "id": "6f8e2144-be63-4a5e-b585-51fca37eb5c2",
   "metadata": {},
   "outputs": [],
   "source": [
    "from neo4j_connection import Neo4jConnection"
   ]
  },
  {
   "cell_type": "code",
   "execution_count": 14,
   "id": "81f6df4d-7ab0-420d-b041-659699c733a2",
   "metadata": {},
   "outputs": [],
   "source": [
    "from neo4j import GraphDatabase"
   ]
  },
  {
   "cell_type": "code",
   "execution_count": 15,
   "id": "2057fe94-aa00-4931-9f67-766a06c3c566",
   "metadata": {},
   "outputs": [
    {
     "name": "stdout",
     "output_type": "stream",
     "text": [
      "processing file:///data_yi/ecs/ecs_age_group_out.csv\n",
      "processing file:///data_yi/ecs/ecs_visit_stage_out.csv\n",
      "processing file:///data_yi/ecs/ecs_Sex_out.csv\n",
      "processing file:///data_yi/pwy/pwy_visit_stage_out.csv\n",
      "processing file:///data_yi/pwy/pwy_Sex_out.csv\n",
      "processing file:///data_yi/pwy/pwy_age_group_out.csv\n",
      "processing file:///data_yi/tax/tax_age_group_out.csv\n",
      "processing file:///data_yi/tax/tax_visit_stage_out.csv\n",
      "processing file:///data_yi/tax/tax_Sex_out.csv\n"
     ]
    }
   ],
   "source": [
    "NEO4J = {\"URL\": \"bolt://localhost:7687\", \"USER\": \"neo4j\", \"PW\": \"1qazXSW@\", 'DB': 'ecspwytax'}\n",
    "URI = NEO4J['URL']\n",
    "AUTH = (NEO4J['USER'], NEO4J['PW'])\n",
    "\n",
    "with GraphDatabase.driver(URI, auth=AUTH) as driver: \n",
    "    driver.verify_connectivity()\n",
    "    for query in queries_store:\n",
    "        print(f\"processing {query[1]}\")\n",
    "        driver.execute_query(query[0], path=query[1], database_=NEO4J['DB'])"
   ]
  },
  {
   "cell_type": "code",
   "execution_count": 13,
   "id": "66a8d3ce-242c-4b17-8691-d7967cda6074",
   "metadata": {},
   "outputs": [
    {
     "name": "stdout",
     "output_type": "stream",
     "text": [
      "processing file:///data/meta/master_data.csv\n",
      "processing file:///data_yi/ecs/ecs_age_group_out.csv\n",
      "processing file:///data_yi/ecs/ecs_visit_stage_out.csv\n",
      "processing file:///data_yi/ecs/ecs_Sex_out.csv\n",
      "processing file:///data_yi/pwy/pwy_visit_stage_out.csv\n",
      "processing file:///data_yi/pwy/pwy_Sex_out.csv\n",
      "processing file:///data_yi/pwy/pwy_age_group_out.csv\n",
      "processing file:///data_yi/tax/tax_age_group_out.csv\n",
      "processing file:///data_yi/tax/tax_visit_stage_out.csv\n",
      "processing file:///data_yi/tax/tax_Sex_out.csv\n"
     ]
    }
   ],
   "source": [
    "NEO4J = {\"URL\": \"bolt://localhost:7687\", \"USER\": \"neo4j\", \"PW\": \"1qazXSW@\"}\n",
    "\n",
    "neo4j_config_url = NEO4J['URL']\n",
    "neo4j_config_user = NEO4J['USER']\n",
    "neo4j_config_pw = NEO4J['PW']\n",
    "conn = Neo4jConnection(neo4j_config_url, neo4j_config_user, neo4j_config_pw, 'biocypher')\n",
    "for query in queries_store:\n",
    "    print(f\"processing {query[1]}\")\n",
    "    conn.query(query[0], path=query[1])\n",
    "conn.close()"
   ]
  },
  {
   "cell_type": "code",
   "execution_count": null,
   "id": "a831ad8e-32da-46b6-b88c-140839a854a3",
   "metadata": {},
   "outputs": [],
   "source": []
  }
 ],
 "metadata": {
  "kernelspec": {
   "display_name": "Python 3 (ipykernel)",
   "language": "python",
   "name": "python3"
  },
  "language_info": {
   "codemirror_mode": {
    "name": "ipython",
    "version": 3
   },
   "file_extension": ".py",
   "mimetype": "text/x-python",
   "name": "python",
   "nbconvert_exporter": "python",
   "pygments_lexer": "ipython3",
   "version": "3.10.9"
  }
 },
 "nbformat": 4,
 "nbformat_minor": 5
}
