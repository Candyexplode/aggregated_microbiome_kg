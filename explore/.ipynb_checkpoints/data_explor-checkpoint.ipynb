{
 "cells": [
  {
   "cell_type": "code",
   "execution_count": 1,
   "id": "060b2618-8d1e-4ceb-9225-7165302a68bb",
   "metadata": {},
   "outputs": [],
   "source": [
    "import numpy as np\n",
    "import pandas as pd"
   ]
  },
  {
   "cell_type": "code",
   "execution_count": 2,
   "id": "7b1d8f6c-9666-4f70-a8f7-fdcc9b3b8f81",
   "metadata": {},
   "outputs": [],
   "source": [
    "df_enz = pd.read_csv('nonIBD_enz_processed.csv')\n",
    "df_pwy = pd.read_csv('nonIBD_processed.csv')\n",
    "df_tax = pd.read_csv('UC_tax_processed.csv')"
   ]
  },
  {
   "cell_type": "code",
   "execution_count": 3,
   "id": "1cb97058-6969-4ba2-943c-16e4f21c3452",
   "metadata": {},
   "outputs": [
    {
     "data": {
      "text/html": [
       "<div>\n",
       "<style scoped>\n",
       "    .dataframe tbody tr th:only-of-type {\n",
       "        vertical-align: middle;\n",
       "    }\n",
       "\n",
       "    .dataframe tbody tr th {\n",
       "        vertical-align: top;\n",
       "    }\n",
       "\n",
       "    .dataframe thead th {\n",
       "        text-align: right;\n",
       "    }\n",
       "</style>\n",
       "<table border=\"1\" class=\"dataframe\">\n",
       "  <thead>\n",
       "    <tr style=\"text-align: right;\">\n",
       "      <th></th>\n",
       "      <th>Unnamed: 0</th>\n",
       "      <th>Abundance_RPKs</th>\n",
       "      <th>Subject_ID</th>\n",
       "      <th>Visit_number</th>\n",
       "    </tr>\n",
       "  </thead>\n",
       "  <tbody>\n",
       "    <tr>\n",
       "      <th>count</th>\n",
       "      <td>2.653123e+06</td>\n",
       "      <td>2.653123e+06</td>\n",
       "      <td>2.653123e+06</td>\n",
       "      <td>2.653123e+06</td>\n",
       "    </tr>\n",
       "    <tr>\n",
       "      <th>mean</th>\n",
       "      <td>1.326561e+06</td>\n",
       "      <td>1.222966e-04</td>\n",
       "      <td>3.617678e+03</td>\n",
       "      <td>1.752455e+01</td>\n",
       "    </tr>\n",
       "    <tr>\n",
       "      <th>std</th>\n",
       "      <td>7.658908e+05</td>\n",
       "      <td>5.082743e-04</td>\n",
       "      <td>1.337548e+03</td>\n",
       "      <td>6.999375e+00</td>\n",
       "    </tr>\n",
       "    <tr>\n",
       "      <th>min</th>\n",
       "      <td>0.000000e+00</td>\n",
       "      <td>2.244816e-09</td>\n",
       "      <td>2.008000e+03</td>\n",
       "      <td>4.000000e+00</td>\n",
       "    </tr>\n",
       "    <tr>\n",
       "      <th>25%</th>\n",
       "      <td>6.632805e+05</td>\n",
       "      <td>5.479390e-06</td>\n",
       "      <td>2.083000e+03</td>\n",
       "      <td>1.200000e+01</td>\n",
       "    </tr>\n",
       "    <tr>\n",
       "      <th>50%</th>\n",
       "      <td>1.326561e+06</td>\n",
       "      <td>1.985620e-05</td>\n",
       "      <td>3.016000e+03</td>\n",
       "      <td>1.800000e+01</td>\n",
       "    </tr>\n",
       "    <tr>\n",
       "      <th>75%</th>\n",
       "      <td>1.989842e+06</td>\n",
       "      <td>8.065435e-05</td>\n",
       "      <td>4.040000e+03</td>\n",
       "      <td>2.300000e+01</td>\n",
       "    </tr>\n",
       "    <tr>\n",
       "      <th>max</th>\n",
       "      <td>2.653122e+06</td>\n",
       "      <td>1.045300e-01</td>\n",
       "      <td>6.038000e+03</td>\n",
       "      <td>3.000000e+01</td>\n",
       "    </tr>\n",
       "  </tbody>\n",
       "</table>\n",
       "</div>"
      ],
      "text/plain": [
       "         Unnamed: 0  Abundance_RPKs    Subject_ID  Visit_number\n",
       "count  2.653123e+06    2.653123e+06  2.653123e+06  2.653123e+06\n",
       "mean   1.326561e+06    1.222966e-04  3.617678e+03  1.752455e+01\n",
       "std    7.658908e+05    5.082743e-04  1.337548e+03  6.999375e+00\n",
       "min    0.000000e+00    2.244816e-09  2.008000e+03  4.000000e+00\n",
       "25%    6.632805e+05    5.479390e-06  2.083000e+03  1.200000e+01\n",
       "50%    1.326561e+06    1.985620e-05  3.016000e+03  1.800000e+01\n",
       "75%    1.989842e+06    8.065435e-05  4.040000e+03  2.300000e+01\n",
       "max    2.653122e+06    1.045300e-01  6.038000e+03  3.000000e+01"
      ]
     },
     "execution_count": 3,
     "metadata": {},
     "output_type": "execute_result"
    }
   ],
   "source": [
    "df_enz.describe()"
   ]
  },
  {
   "cell_type": "code",
   "execution_count": 4,
   "id": "f31a06c1-74a6-4719-b409-fbd0cafd2091",
   "metadata": {},
   "outputs": [
    {
     "name": "stdout",
     "output_type": "stream",
     "text": [
      "<class 'pandas.core.frame.DataFrame'>\n",
      "RangeIndex: 2653123 entries, 0 to 2653122\n",
      "Data columns (total 8 columns):\n",
      " #   Column          Dtype  \n",
      "---  ------          -----  \n",
      " 0   Unnamed: 0      int64  \n",
      " 1   Abundance_RPKs  float64\n",
      " 2   Enzyme          object \n",
      " 3   Genus           object \n",
      " 4   Visit_name      object \n",
      " 5   Subject_ID      int64  \n",
      " 6   Visit_number    int64  \n",
      " 7   Diagnosis       object \n",
      "dtypes: float64(1), int64(3), object(4)\n",
      "memory usage: 161.9+ MB\n"
     ]
    }
   ],
   "source": [
    "df_enz.info()"
   ]
  },
  {
   "cell_type": "code",
   "execution_count": 5,
   "id": "37b7d7e0-ba64-4af1-938d-b31a03ab84a0",
   "metadata": {},
   "outputs": [
    {
     "data": {
      "text/plain": [
       "Unnamed: 0        0\n",
       "Abundance_RPKs    0\n",
       "Enzyme            0\n",
       "Genus             0\n",
       "Visit_name        0\n",
       "Subject_ID        0\n",
       "Visit_number      0\n",
       "Diagnosis         0\n",
       "dtype: int64"
      ]
     },
     "execution_count": 5,
     "metadata": {},
     "output_type": "execute_result"
    }
   ],
   "source": [
    "df_enz.isnull().sum()"
   ]
  },
  {
   "cell_type": "code",
   "execution_count": 6,
   "id": "2d5bf216-ea5a-489c-a4a4-db2aaab4cb35",
   "metadata": {},
   "outputs": [
    {
     "data": {
      "text/html": [
       "<div>\n",
       "<style scoped>\n",
       "    .dataframe tbody tr th:only-of-type {\n",
       "        vertical-align: middle;\n",
       "    }\n",
       "\n",
       "    .dataframe tbody tr th {\n",
       "        vertical-align: top;\n",
       "    }\n",
       "\n",
       "    .dataframe thead th {\n",
       "        text-align: right;\n",
       "    }\n",
       "</style>\n",
       "<table border=\"1\" class=\"dataframe\">\n",
       "  <thead>\n",
       "    <tr style=\"text-align: right;\">\n",
       "      <th></th>\n",
       "      <th>Unnamed: 0</th>\n",
       "      <th>Abundance</th>\n",
       "      <th>Subject_ID</th>\n",
       "      <th>Visit_number</th>\n",
       "    </tr>\n",
       "  </thead>\n",
       "  <tbody>\n",
       "    <tr>\n",
       "      <th>count</th>\n",
       "      <td>253856.000000</td>\n",
       "      <td>2.538560e+05</td>\n",
       "      <td>253856.000000</td>\n",
       "      <td>253856.000000</td>\n",
       "    </tr>\n",
       "    <tr>\n",
       "      <th>mean</th>\n",
       "      <td>126927.500000</td>\n",
       "      <td>6.373716e-04</td>\n",
       "      <td>3607.862260</td>\n",
       "      <td>17.365113</td>\n",
       "    </tr>\n",
       "    <tr>\n",
       "      <th>std</th>\n",
       "      <td>73282.059305</td>\n",
       "      <td>1.676704e-03</td>\n",
       "      <td>1296.895645</td>\n",
       "      <td>7.273099</td>\n",
       "    </tr>\n",
       "    <tr>\n",
       "      <th>min</th>\n",
       "      <td>0.000000</td>\n",
       "      <td>5.378420e-07</td>\n",
       "      <td>2008.000000</td>\n",
       "      <td>4.000000</td>\n",
       "    </tr>\n",
       "    <tr>\n",
       "      <th>25%</th>\n",
       "      <td>63463.750000</td>\n",
       "      <td>3.605132e-05</td>\n",
       "      <td>3001.000000</td>\n",
       "      <td>11.000000</td>\n",
       "    </tr>\n",
       "    <tr>\n",
       "      <th>50%</th>\n",
       "      <td>126927.500000</td>\n",
       "      <td>1.335355e-04</td>\n",
       "      <td>3016.000000</td>\n",
       "      <td>18.000000</td>\n",
       "    </tr>\n",
       "    <tr>\n",
       "      <th>75%</th>\n",
       "      <td>190391.250000</td>\n",
       "      <td>5.277400e-04</td>\n",
       "      <td>4039.000000</td>\n",
       "      <td>23.000000</td>\n",
       "    </tr>\n",
       "    <tr>\n",
       "      <th>max</th>\n",
       "      <td>253855.000000</td>\n",
       "      <td>1.476710e-01</td>\n",
       "      <td>6038.000000</td>\n",
       "      <td>30.000000</td>\n",
       "    </tr>\n",
       "  </tbody>\n",
       "</table>\n",
       "</div>"
      ],
      "text/plain": [
       "          Unnamed: 0     Abundance     Subject_ID   Visit_number\n",
       "count  253856.000000  2.538560e+05  253856.000000  253856.000000\n",
       "mean   126927.500000  6.373716e-04    3607.862260      17.365113\n",
       "std     73282.059305  1.676704e-03    1296.895645       7.273099\n",
       "min         0.000000  5.378420e-07    2008.000000       4.000000\n",
       "25%     63463.750000  3.605132e-05    3001.000000      11.000000\n",
       "50%    126927.500000  1.335355e-04    3016.000000      18.000000\n",
       "75%    190391.250000  5.277400e-04    4039.000000      23.000000\n",
       "max    253855.000000  1.476710e-01    6038.000000      30.000000"
      ]
     },
     "execution_count": 6,
     "metadata": {},
     "output_type": "execute_result"
    }
   ],
   "source": [
    "df_pwy.describe()"
   ]
  },
  {
   "cell_type": "code",
   "execution_count": 7,
   "id": "05ddaa20-6dc8-4588-b723-e777e1fa96ed",
   "metadata": {},
   "outputs": [
    {
     "name": "stdout",
     "output_type": "stream",
     "text": [
      "<class 'pandas.core.frame.DataFrame'>\n",
      "RangeIndex: 253856 entries, 0 to 253855\n",
      "Data columns (total 8 columns):\n",
      " #   Column        Non-Null Count   Dtype  \n",
      "---  ------        --------------   -----  \n",
      " 0   Unnamed: 0    253856 non-null  int64  \n",
      " 1   Abundance     253856 non-null  float64\n",
      " 2   PWY           253856 non-null  object \n",
      " 3   Genus         253856 non-null  object \n",
      " 4   Visit_name    253856 non-null  object \n",
      " 5   Subject_ID    253856 non-null  int64  \n",
      " 6   Visit_number  253856 non-null  int64  \n",
      " 7   Diagnosis     253856 non-null  object \n",
      "dtypes: float64(1), int64(3), object(4)\n",
      "memory usage: 15.5+ MB\n"
     ]
    }
   ],
   "source": [
    "df_pwy.info()"
   ]
  },
  {
   "cell_type": "code",
   "execution_count": 8,
   "id": "13370496-1e33-45f7-ab15-946f21791f2e",
   "metadata": {},
   "outputs": [
    {
     "name": "stdout",
     "output_type": "stream",
     "text": [
      "<class 'pandas.core.frame.DataFrame'>\n",
      "RangeIndex: 55631 entries, 0 to 55630\n",
      "Data columns (total 15 columns):\n",
      " #   Column               Non-Null Count  Dtype  \n",
      "---  ------               --------------  -----  \n",
      " 0   Unnamed: 0           55631 non-null  int64  \n",
      " 1   OTU_ID               55631 non-null  object \n",
      " 2   Metaphlan2_Analysis  55631 non-null  float64\n",
      " 3   Kingdom              55631 non-null  object \n",
      " 4   Phylum               54977 non-null  object \n",
      " 5   Class                52838 non-null  object \n",
      " 6   Order                49071 non-null  object \n",
      " 7   Family               44587 non-null  object \n",
      " 8   Genus                36496 non-null  object \n",
      " 9   Species              23844 non-null  object \n",
      " 10  t__                  0 non-null      float64\n",
      " 11  Visit_name           55631 non-null  object \n",
      " 12  Subject_ID           55631 non-null  int64  \n",
      " 13  Visit_number         55631 non-null  int64  \n",
      " 14  Diagnosis            55631 non-null  object \n",
      "dtypes: float64(2), int64(3), object(10)\n",
      "memory usage: 6.4+ MB\n"
     ]
    }
   ],
   "source": [
    "df_tax.info()"
   ]
  },
  {
   "cell_type": "code",
   "execution_count": 9,
   "id": "39155c43-7fad-4c25-9a33-7c13f224de3b",
   "metadata": {},
   "outputs": [],
   "source": [
    "df_tax_processed = df_tax.dropna(subset=['Genus'])"
   ]
  },
  {
   "cell_type": "code",
   "execution_count": 10,
   "id": "90cf8d23-04ba-47ef-b93b-7757d356feaa",
   "metadata": {},
   "outputs": [],
   "source": [
    "df_tax_processed.to_csv('uc_tax.csv')"
   ]
  },
  {
   "cell_type": "code",
   "execution_count": null,
   "id": "a2075945-3f6e-421c-9598-2a07f83be904",
   "metadata": {},
   "outputs": [],
   "source": []
  }
 ],
 "metadata": {
  "kernelspec": {
   "display_name": "Python 3 (ipykernel)",
   "language": "python",
   "name": "python3"
  },
  "language_info": {
   "codemirror_mode": {
    "name": "ipython",
    "version": 3
   },
   "file_extension": ".py",
   "mimetype": "text/x-python",
   "name": "python",
   "nbconvert_exporter": "python",
   "pygments_lexer": "ipython3",
   "version": "3.10.11"
  }
 },
 "nbformat": 4,
 "nbformat_minor": 5
}
