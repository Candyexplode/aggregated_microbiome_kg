{
 "cells": [
  {
   "cell_type": "code",
   "execution_count": 17,
   "id": "b2b22e6d-3c2c-430c-b4d6-ffe4ac964456",
   "metadata": {},
   "outputs": [],
   "source": [
    "import os\n",
    "import numpy as np\n",
    "import pandas as pd"
   ]
  },
  {
   "cell_type": "code",
   "execution_count": 18,
   "id": "6d4176d2-d47c-4d20-9358-8ef2ee497746",
   "metadata": {},
   "outputs": [],
   "source": [
    "DATA_DIR = '../data/'\n",
    "MASTER_FILE_NAME = 'sub_list.xlsx'\n",
    "TAX_FILE_NAME = 'taxo_data_1.csv'\n",
    "MASTER_TAX_FILE_NAME = 'master_tax.csv'"
   ]
  },
  {
   "cell_type": "code",
   "execution_count": 19,
   "id": "16fc6b8c-5a89-4568-81a8-faa1e943451a",
   "metadata": {},
   "outputs": [],
   "source": [
    "master_file = os.path.join(DATA_DIR, MASTER_FILE_NAME)\n",
    "tax_file = os.path.join(DATA_DIR, TAX_FILE_NAME)"
   ]
  },
  {
   "cell_type": "code",
   "execution_count": 23,
   "id": "143aa0a9-3371-4fc5-99ed-57fae8f9eb58",
   "metadata": {},
   "outputs": [],
   "source": [
    "master = pd.read_excel(master_file)\n",
    "tax = pd.read_csv(tax_file)"
   ]
  },
  {
   "cell_type": "code",
   "execution_count": 24,
   "id": "9d3062c9-f7c6-413d-87f5-9616b6c8c072",
   "metadata": {},
   "outputs": [
    {
     "name": "stderr",
     "output_type": "stream",
     "text": [
      "/tmp/ipykernel_31034/1161676586.py:4: SettingWithCopyWarning: \n",
      "A value is trying to be set on a copy of a slice from a DataFrame\n",
      "\n",
      "See the caveats in the documentation: https://pandas.pydata.org/pandas-docs/stable/user_guide/indexing.html#returning-a-view-versus-a-copy\n",
      "  unique_master.drop(columns=['Sample_body_site', 'Type', 'urls'], inplace=True)\n"
     ]
    }
   ],
   "source": [
    "master.drop(columns=['Sample_body_site', 'Type', 'urls'], inplace=True)\n",
    "unique_master = master.drop_duplicates(\n",
    "    subset=['Subject_ID', 'Visit_number', 'Visit_ID', 'Age', 'Sex', 'Diagnosis', 'Race']\n",
    ")\n",
    "genus_abundances = tax.loc[:,[\"Visit_name\", 'Genus', 'Metaphlan2_Analysis']]\n",
    "genus_abundances.reset_index(inplace=True)\n",
    "genus_abundances.rename(columns={'index': 'idx', 'Visit_name': 'Visit_ID'}, inplace=True)\n",
    "genus = genus_abundances.pivot(index='idx', columns='Genus', values='Metaphlan2_Analysis')\n",
    "genus['Visit_ID'] = genus_abundances['Visit_ID']"
   ]
  },
  {
   "cell_type": "code",
   "execution_count": 25,
   "id": "015f0bd9-4fa7-408a-8f6d-049f3ff42658",
   "metadata": {},
   "outputs": [],
   "source": [
    "result = pd.merge(unique_master, genus, on='Visit_ID')\n",
    "result = result.fillna(0.0)\n",
    "result.to_csv(os.path.join(DATA_DIR, MASTER_TAX_FILE_NAME))"
   ]
  },
  {
   "cell_type": "code",
   "execution_count": null,
   "id": "f9c7d61f-f305-4621-8ec3-19c9ae461e44",
   "metadata": {},
   "outputs": [],
   "source": []
  }
 ],
 "metadata": {
  "kernelspec": {
   "display_name": "Python 3 (ipykernel)",
   "language": "python",
   "name": "python3"
  },
  "language_info": {
   "codemirror_mode": {
    "name": "ipython",
    "version": 3
   },
   "file_extension": ".py",
   "mimetype": "text/x-python",
   "name": "python",
   "nbconvert_exporter": "python",
   "pygments_lexer": "ipython3",
   "version": "3.10.12"
  }
 },
 "nbformat": 4,
 "nbformat_minor": 5
}
