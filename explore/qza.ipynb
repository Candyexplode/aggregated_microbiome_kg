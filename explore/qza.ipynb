{
 "cells": [
  {
   "cell_type": "code",
   "execution_count": 1,
   "id": "9e6ffc29-225c-497e-9761-a30a2444a9f3",
   "metadata": {},
   "outputs": [],
   "source": [
    "import numpy as np\n",
    "import pandas as pd\n",
    "from biom import load_table"
   ]
  },
  {
   "cell_type": "code",
   "execution_count": 2,
   "id": "41151595-a385-41ee-b834-87765ba27d3b",
   "metadata": {},
   "outputs": [],
   "source": [
    "table_path = \"../data/qza/table/89cf3560-daf9-4a09-9355-6a9da3af7898/data/feature-table.biom\"\n",
    "taxa_path = \"../data/qza/taxa/9a75760a-a2df-4fe6-9b02-22112f6356b0/data/taxonomy.tsv\""
   ]
  },
  {
   "cell_type": "code",
   "execution_count": 21,
   "id": "65b98687-8c0b-4764-914e-9dcd8f231bd5",
   "metadata": {},
   "outputs": [],
   "source": [
    "biom_table = load_table(table_path)\n",
    "# print(biom_table)\n",
    "with open(\"../data/qza/feature-table.tsv\", \"w\") as f:\n",
    "    biom_table.to_tsv(\n",
    "        header_key=\"taxonomy\", header_value=\"taxonomy\", direct_io=f\n",
    "    )\n",
    "# biom_table.to_tsv(\"../data/qza/feature-table.tsv\")\n",
    "feature_table = pd.read_csv(\"../data/qza/feature-table.tsv\")\n",
    "taxa = pd.read_csv(taxa_path, sep=\"\\t\")"
   ]
  },
  {
   "cell_type": "code",
   "execution_count": 22,
   "id": "c7fd9569-bc6a-4060-8fd9-683649486dc9",
   "metadata": {},
   "outputs": [
    {
     "data": {
      "text/html": [
       "<div>\n",
       "<style scoped>\n",
       "    .dataframe tbody tr th:only-of-type {\n",
       "        vertical-align: middle;\n",
       "    }\n",
       "\n",
       "    .dataframe tbody tr th {\n",
       "        vertical-align: top;\n",
       "    }\n",
       "\n",
       "    .dataframe thead th {\n",
       "        text-align: right;\n",
       "    }\n",
       "</style>\n",
       "<table border=\"1\" class=\"dataframe\">\n",
       "  <thead>\n",
       "    <tr style=\"text-align: right;\">\n",
       "      <th></th>\n",
       "      <th># Constructed from biom file</th>\n",
       "    </tr>\n",
       "  </thead>\n",
       "  <tbody>\n",
       "    <tr>\n",
       "      <th>0</th>\n",
       "      <td>#OTU ID\\tERR1331856\\tERR1331793\\tERR1331872\\tE...</td>\n",
       "    </tr>\n",
       "    <tr>\n",
       "      <th>1</th>\n",
       "      <td>TACGGAGGATGCGAGCGTTATCCGGATTTATTGGGTTTAAAGGGTG...</td>\n",
       "    </tr>\n",
       "    <tr>\n",
       "      <th>2</th>\n",
       "      <td>TACGGAGGATCCGAGCGTTATCCGGATTTATTGGGTTTAAAGGGAG...</td>\n",
       "    </tr>\n",
       "    <tr>\n",
       "      <th>3</th>\n",
       "      <td>TACGGAGGATCCGAGCGTTATCCGGATTTATTGGGTTTAAAGGGAG...</td>\n",
       "    </tr>\n",
       "    <tr>\n",
       "      <th>4</th>\n",
       "      <td>TACGTATGGTGCAAGCGTTATCCGGATTTACTGGGTGTAAAGGGAG...</td>\n",
       "    </tr>\n",
       "    <tr>\n",
       "      <th>...</th>\n",
       "      <td>...</td>\n",
       "    </tr>\n",
       "    <tr>\n",
       "      <th>134</th>\n",
       "      <td>TACGTAGGTGGCAAGCGTTGTCCGGATTTACTGGGTGTAAAGGGCG...</td>\n",
       "    </tr>\n",
       "    <tr>\n",
       "      <th>135</th>\n",
       "      <td>TACGAAGGGGGCAAGCGTTGTTCGGAATTACTGGGCGTAAAGGGAG...</td>\n",
       "    </tr>\n",
       "    <tr>\n",
       "      <th>136</th>\n",
       "      <td>TACGTAGGGAGCGAGCGTTGTCCGGAATTACTGGGCGTAAAGGGTG...</td>\n",
       "    </tr>\n",
       "    <tr>\n",
       "      <th>137</th>\n",
       "      <td>TACGTATGGTGCAAGCGTTATCCGGATTTACTGGGTGTAAAGGGAG...</td>\n",
       "    </tr>\n",
       "    <tr>\n",
       "      <th>138</th>\n",
       "      <td>TACGTAGGGAGCGAGCGTTGTCCGGAATTACTGGGTGTAAAGGGAG...</td>\n",
       "    </tr>\n",
       "  </tbody>\n",
       "</table>\n",
       "<p>139 rows × 1 columns</p>\n",
       "</div>"
      ],
      "text/plain": [
       "                          # Constructed from biom file\n",
       "0    #OTU ID\\tERR1331856\\tERR1331793\\tERR1331872\\tE...\n",
       "1    TACGGAGGATGCGAGCGTTATCCGGATTTATTGGGTTTAAAGGGTG...\n",
       "2    TACGGAGGATCCGAGCGTTATCCGGATTTATTGGGTTTAAAGGGAG...\n",
       "3    TACGGAGGATCCGAGCGTTATCCGGATTTATTGGGTTTAAAGGGAG...\n",
       "4    TACGTATGGTGCAAGCGTTATCCGGATTTACTGGGTGTAAAGGGAG...\n",
       "..                                                 ...\n",
       "134  TACGTAGGTGGCAAGCGTTGTCCGGATTTACTGGGTGTAAAGGGCG...\n",
       "135  TACGAAGGGGGCAAGCGTTGTTCGGAATTACTGGGCGTAAAGGGAG...\n",
       "136  TACGTAGGGAGCGAGCGTTGTCCGGAATTACTGGGCGTAAAGGGTG...\n",
       "137  TACGTATGGTGCAAGCGTTATCCGGATTTACTGGGTGTAAAGGGAG...\n",
       "138  TACGTAGGGAGCGAGCGTTGTCCGGAATTACTGGGTGTAAAGGGAG...\n",
       "\n",
       "[139 rows x 1 columns]"
      ]
     },
     "execution_count": 22,
     "metadata": {},
     "output_type": "execute_result"
    }
   ],
   "source": [
    "feature_table"
   ]
  },
  {
   "cell_type": "code",
   "execution_count": 16,
   "id": "6cdd536f-df38-4efa-a951-af214ac39c5f",
   "metadata": {},
   "outputs": [
    {
     "name": "stdout",
     "output_type": "stream",
     "text": [
      "['CSM5FZ4M']\n"
     ]
    }
   ],
   "source": [
    "biom_ecs = load_table(\"../data/biom/CSM5FZ4M_ecs_relab_DUPLICATE.biom\")\n",
    "print(biom_ecs.ids())"
   ]
  },
  {
   "cell_type": "code",
   "execution_count": 18,
   "id": "f7230f35-1254-45eb-bb28-fc80754709c9",
   "metadata": {},
   "outputs": [
    {
     "name": "stdout",
     "output_type": "stream",
     "text": [
      "['1.5.1.3: Dihydrofolate reductase|g__Bifidobacterium.s__Bifidobacterium_animalis'\n",
      " '2.1.1.107: Uroporphyrinogen-III C-methyltransferase|g__Clostridium.s__Clostridium_asparagiforme'\n",
      " '1.1.1.6: Glycerol dehydrogenase|g__Anaerostipes.s__Anaerostipes_hadrus'\n",
      " ... '2.7.1.6: Galactokinase|g__Coprococcus.s__Coprococcus_catus'\n",
      " '2.1.1.182: 16S rRNA (adenine(1518)-N(6)/adenine(1519)-N(6))-dimethyltransferase|g__Coprobacter.s__Coprobacter_fastidiosus'\n",
      " '2.7.1.24: Dephospho-CoA kinase|g__Bacteroides.s__Bacteroides_thetaiotaomicron']\n"
     ]
    }
   ],
   "source": [
    "print(biom_ecs.ids(axis='observation'))"
   ]
  },
  {
   "cell_type": "code",
   "execution_count": null,
   "id": "e39cf381-0724-4135-90e7-6c07f8585973",
   "metadata": {},
   "outputs": [],
   "source": []
  }
 ],
 "metadata": {
  "kernelspec": {
   "display_name": "Python 3 (ipykernel)",
   "language": "python",
   "name": "python3"
  },
  "language_info": {
   "codemirror_mode": {
    "name": "ipython",
    "version": 3
   },
   "file_extension": ".py",
   "mimetype": "text/x-python",
   "name": "python",
   "nbconvert_exporter": "python",
   "pygments_lexer": "ipython3",
   "version": "3.10.11"
  }
 },
 "nbformat": 4,
 "nbformat_minor": 5
}
